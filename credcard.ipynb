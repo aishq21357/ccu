{
 "cells": [
  {
   "cell_type": "code",
   "execution_count": 35,
   "id": "aeff2be8",
   "metadata": {
    "ExecuteTime": {
     "end_time": "2022-03-26T06:50:22.150773Z",
     "start_time": "2022-03-26T06:50:22.135284Z"
    }
   },
   "outputs": [],
   "source": [
    "import pandas as pd\n",
    "from sklearn import tree\n",
    "from sklearn.metrics import confusion_matrix\n",
    "import joblib\n",
    "from sklearn.ensemble import RandomForestClassifier\n",
    "from sklearn.ensemble import GradientBoostingClassifier"
   ]
  },
  {
   "cell_type": "code",
   "execution_count": 3,
   "id": "22deacb7",
   "metadata": {
    "ExecuteTime": {
     "end_time": "2022-03-26T06:23:54.622914Z",
     "start_time": "2022-03-26T06:23:54.590908Z"
    }
   },
   "outputs": [],
   "source": [
    "df = pd.read_csv(\"C:\\FM BFA\\Cred Card csv\\CreditCard.csv\")"
   ]
  },
  {
   "cell_type": "code",
   "execution_count": 6,
   "id": "d8b1016b",
   "metadata": {
    "ExecuteTime": {
     "end_time": "2022-03-26T06:29:13.622423Z",
     "start_time": "2022-03-26T06:29:13.598355Z"
    }
   },
   "outputs": [],
   "source": [
    "x = df.loc[:, [\"Purchases\", \"SuppCard\"]]"
   ]
  },
  {
   "cell_type": "code",
   "execution_count": 7,
   "id": "df719d34",
   "metadata": {
    "ExecuteTime": {
     "end_time": "2022-03-26T06:30:16.399498Z",
     "start_time": "2022-03-26T06:30:16.383472Z"
    }
   },
   "outputs": [],
   "source": [
    "y = df.loc[:, [\"Upgraded\"]]"
   ]
  },
  {
   "cell_type": "code",
   "execution_count": 17,
   "id": "6abf8231",
   "metadata": {
    "ExecuteTime": {
     "end_time": "2022-03-26T06:38:57.757513Z",
     "start_time": "2022-03-26T06:38:57.741469Z"
    }
   },
   "outputs": [],
   "source": [
    "model = tree.DecisionTreeClassifier(max_depth = 2)"
   ]
  },
  {
   "cell_type": "code",
   "execution_count": 18,
   "id": "860d9400",
   "metadata": {
    "ExecuteTime": {
     "end_time": "2022-03-26T06:38:58.301700Z",
     "start_time": "2022-03-26T06:38:58.277603Z"
    }
   },
   "outputs": [
    {
     "data": {
      "text/plain": [
       "DecisionTreeClassifier(max_depth=2)"
      ]
     },
     "execution_count": 18,
     "metadata": {},
     "output_type": "execute_result"
    }
   ],
   "source": [
    "model.fit(x,y)"
   ]
  },
  {
   "cell_type": "code",
   "execution_count": 19,
   "id": "0ad78cd4",
   "metadata": {
    "ExecuteTime": {
     "end_time": "2022-03-26T06:38:59.063004Z",
     "start_time": "2022-03-26T06:38:59.038976Z"
    }
   },
   "outputs": [],
   "source": [
    "pred = model.predict(x)"
   ]
  },
  {
   "cell_type": "code",
   "execution_count": 20,
   "id": "bf5a9114",
   "metadata": {
    "ExecuteTime": {
     "end_time": "2022-03-26T06:38:59.671853Z",
     "start_time": "2022-03-26T06:38:59.660660Z"
    }
   },
   "outputs": [
    {
     "data": {
      "text/plain": [
       "array([0, 0, 0, 0, 0, 0, 0, 1, 1, 1, 1, 0, 0, 0, 1, 0, 0, 1, 0, 0, 0, 1,\n",
       "       0, 0, 0, 0, 0, 1, 1, 1], dtype=int64)"
      ]
     },
     "execution_count": 20,
     "metadata": {},
     "output_type": "execute_result"
    }
   ],
   "source": [
    "pred"
   ]
  },
  {
   "cell_type": "code",
   "execution_count": 21,
   "id": "f330d238",
   "metadata": {
    "ExecuteTime": {
     "end_time": "2022-03-26T06:39:00.342685Z",
     "start_time": "2022-03-26T06:39:00.326871Z"
    }
   },
   "outputs": [],
   "source": [
    "cm = confusion_matrix(y, pred)"
   ]
  },
  {
   "cell_type": "code",
   "execution_count": 25,
   "id": "a3ca479e",
   "metadata": {
    "ExecuteTime": {
     "end_time": "2022-03-26T06:43:44.254607Z",
     "start_time": "2022-03-26T06:43:44.230552Z"
    }
   },
   "outputs": [
    {
     "data": {
      "text/plain": [
       "array([[16,  1],\n",
       "       [ 4,  9]], dtype=int64)"
      ]
     },
     "execution_count": 25,
     "metadata": {},
     "output_type": "execute_result"
    }
   ],
   "source": [
    "cm"
   ]
  },
  {
   "cell_type": "code",
   "execution_count": 24,
   "id": "9d2c8471",
   "metadata": {
    "ExecuteTime": {
     "end_time": "2022-03-26T06:42:47.666556Z",
     "start_time": "2022-03-26T06:42:47.650564Z"
    }
   },
   "outputs": [
    {
     "data": {
      "text/plain": [
       "['cart']"
      ]
     },
     "execution_count": 24,
     "metadata": {},
     "output_type": "execute_result"
    }
   ],
   "source": [
    "joblib.dump(model, \"cart\")"
   ]
  },
  {
   "cell_type": "markdown",
   "id": "4b2345f5",
   "metadata": {},
   "source": [
    "--------------------RandomForestClassifier---------------------------------"
   ]
  },
  {
   "cell_type": "code",
   "execution_count": 63,
   "id": "96f6aae1",
   "metadata": {
    "ExecuteTime": {
     "end_time": "2022-03-26T07:05:59.236456Z",
     "start_time": "2022-03-26T07:05:59.228516Z"
    }
   },
   "outputs": [],
   "source": [
    "model2 = RandomForestClassifier(min_samples_split = 13)"
   ]
  },
  {
   "cell_type": "code",
   "execution_count": 64,
   "id": "bd2b9f99",
   "metadata": {
    "ExecuteTime": {
     "end_time": "2022-03-26T07:05:59.757156Z",
     "start_time": "2022-03-26T07:05:59.572486Z"
    }
   },
   "outputs": [
    {
     "name": "stderr",
     "output_type": "stream",
     "text": [
      "C:\\Users\\starl\\AppData\\Local\\Temp/ipykernel_5680/2468933412.py:1: DataConversionWarning: A column-vector y was passed when a 1d array was expected. Please change the shape of y to (n_samples,), for example using ravel().\n",
      "  model2.fit(x,y)\n"
     ]
    },
    {
     "data": {
      "text/plain": [
       "RandomForestClassifier(min_samples_split=13)"
      ]
     },
     "execution_count": 64,
     "metadata": {},
     "output_type": "execute_result"
    }
   ],
   "source": [
    "model2.fit(x,y)"
   ]
  },
  {
   "cell_type": "code",
   "execution_count": 65,
   "id": "d5058893",
   "metadata": {
    "ExecuteTime": {
     "end_time": "2022-03-26T07:05:59.949304Z",
     "start_time": "2022-03-26T07:05:59.909023Z"
    }
   },
   "outputs": [],
   "source": [
    "pred2 = model2.predict(x)"
   ]
  },
  {
   "cell_type": "code",
   "execution_count": 66,
   "id": "11d69355",
   "metadata": {
    "ExecuteTime": {
     "end_time": "2022-03-26T07:06:00.285775Z",
     "start_time": "2022-03-26T07:06:00.269774Z"
    }
   },
   "outputs": [],
   "source": [
    "cm2 = confusion_matrix(y, pred2)"
   ]
  },
  {
   "cell_type": "code",
   "execution_count": 67,
   "id": "23d506a9",
   "metadata": {
    "ExecuteTime": {
     "end_time": "2022-03-26T07:06:00.573920Z",
     "start_time": "2022-03-26T07:06:00.557906Z"
    }
   },
   "outputs": [
    {
     "data": {
      "text/plain": [
       "array([[14,  3],\n",
       "       [ 1, 12]], dtype=int64)"
      ]
     },
     "execution_count": 67,
     "metadata": {},
     "output_type": "execute_result"
    }
   ],
   "source": [
    "cm2"
   ]
  },
  {
   "cell_type": "code",
   "execution_count": 68,
   "id": "6311b5a4",
   "metadata": {
    "ExecuteTime": {
     "end_time": "2022-03-26T07:06:01.086123Z",
     "start_time": "2022-03-26T07:06:01.006116Z"
    }
   },
   "outputs": [
    {
     "data": {
      "text/plain": [
       "['RandomForest']"
      ]
     },
     "execution_count": 68,
     "metadata": {},
     "output_type": "execute_result"
    }
   ],
   "source": [
    "joblib.dump(model2, \"RandomForest\")"
   ]
  },
  {
   "cell_type": "markdown",
   "id": "c0356c25",
   "metadata": {},
   "source": [
    "------------------------XGBoost-----------------------------"
   ]
  },
  {
   "cell_type": "code",
   "execution_count": 43,
   "id": "c66a3041",
   "metadata": {
    "ExecuteTime": {
     "end_time": "2022-03-26T06:53:29.955658Z",
     "start_time": "2022-03-26T06:53:29.940612Z"
    }
   },
   "outputs": [],
   "source": [
    "model3 = GradientBoostingClassifier(min_samples_split=30, random_state=260322)"
   ]
  },
  {
   "cell_type": "code",
   "execution_count": 44,
   "id": "539c590b",
   "metadata": {
    "ExecuteTime": {
     "end_time": "2022-03-26T06:53:30.935136Z",
     "start_time": "2022-03-26T06:53:30.870593Z"
    }
   },
   "outputs": [
    {
     "name": "stderr",
     "output_type": "stream",
     "text": [
      "C:\\Users\\starl\\anaconda3\\lib\\site-packages\\sklearn\\utils\\validation.py:63: DataConversionWarning: A column-vector y was passed when a 1d array was expected. Please change the shape of y to (n_samples, ), for example using ravel().\n",
      "  return f(*args, **kwargs)\n"
     ]
    },
    {
     "data": {
      "text/plain": [
       "GradientBoostingClassifier(min_samples_split=30, random_state=260322)"
      ]
     },
     "execution_count": 44,
     "metadata": {},
     "output_type": "execute_result"
    }
   ],
   "source": [
    "model3.fit(x,y)"
   ]
  },
  {
   "cell_type": "code",
   "execution_count": 45,
   "id": "e9b10e4b",
   "metadata": {
    "ExecuteTime": {
     "end_time": "2022-03-26T06:53:32.523498Z",
     "start_time": "2022-03-26T06:53:32.515496Z"
    }
   },
   "outputs": [],
   "source": [
    "pred3 = model3.predict(x)"
   ]
  },
  {
   "cell_type": "code",
   "execution_count": 46,
   "id": "0b5b9f15",
   "metadata": {
    "ExecuteTime": {
     "end_time": "2022-03-26T06:53:33.486889Z",
     "start_time": "2022-03-26T06:53:33.462882Z"
    }
   },
   "outputs": [],
   "source": [
    "cm3 = confusion_matrix(y, pred3)"
   ]
  },
  {
   "cell_type": "code",
   "execution_count": 47,
   "id": "1c7fe315",
   "metadata": {
    "ExecuteTime": {
     "end_time": "2022-03-26T06:53:34.012942Z",
     "start_time": "2022-03-26T06:53:33.989189Z"
    }
   },
   "outputs": [
    {
     "data": {
      "text/plain": [
       "array([[16,  1],\n",
       "       [ 3, 10]], dtype=int64)"
      ]
     },
     "execution_count": 47,
     "metadata": {},
     "output_type": "execute_result"
    }
   ],
   "source": [
    "cm3"
   ]
  },
  {
   "cell_type": "code",
   "execution_count": 48,
   "id": "1970328a",
   "metadata": {
    "ExecuteTime": {
     "end_time": "2022-03-26T06:53:34.574378Z",
     "start_time": "2022-03-26T06:53:34.558431Z"
    }
   },
   "outputs": [
    {
     "data": {
      "text/plain": [
       "['GradientBoostingClassifier']"
      ]
     },
     "execution_count": 48,
     "metadata": {},
     "output_type": "execute_result"
    }
   ],
   "source": [
    "joblib.dump(model3, \"GradientBoostingClassifier\")"
   ]
  },
  {
   "cell_type": "code",
   "execution_count": 50,
   "id": "1a74d201",
   "metadata": {
    "ExecuteTime": {
     "end_time": "2022-03-26T06:56:07.855174Z",
     "start_time": "2022-03-26T06:56:07.334820Z"
    }
   },
   "outputs": [
    {
     "data": {
      "text/plain": [
       "[Text(167.4, 181.2, 'X[0] <= 35.407\\ngini = 0.491\\nsamples = 30\\nvalue = [17, 13]'),\n",
       " Text(83.7, 108.72, 'X[1] <= 0.5\\ngini = 0.219\\nsamples = 16\\nvalue = [14, 2]'),\n",
       " Text(41.85, 36.23999999999998, 'gini = 0.0\\nsamples = 12\\nvalue = [12, 0]'),\n",
       " Text(125.55000000000001, 36.23999999999998, 'gini = 0.5\\nsamples = 4\\nvalue = [2, 2]'),\n",
       " Text(251.10000000000002, 108.72, 'X[1] <= 0.5\\ngini = 0.337\\nsamples = 14\\nvalue = [3, 11]'),\n",
       " Text(209.25, 36.23999999999998, 'gini = 0.5\\nsamples = 4\\nvalue = [2, 2]'),\n",
       " Text(292.95, 36.23999999999998, 'gini = 0.18\\nsamples = 10\\nvalue = [1, 9]')]"
      ]
     },
     "execution_count": 50,
     "metadata": {},
     "output_type": "execute_result"
    },
    {
     "data": {
      "image/png": "[encoded data removed]",
      "text/plain": [
       "<Figure size 432x288 with 1 Axes>"
      ]
     },
     "metadata": {
      "needs_background": "light"
     },
     "output_type": "display_data"
    }
   ],
   "source": [
    "tree.plot_tree(model)"
   ]
  },
  {
   "cell_type": "code",
   "execution_count": null,
   "id": "f1e41155",
   "metadata": {},
   "outputs": [],
   "source": []
  }
 ],
 "metadata": {
  "kernelspec": {
   "display_name": "Python 3 (ipykernel)",
   "language": "python",
   "name": "python3"
  },
  "language_info": {
   "codemirror_mode": {
    "name": "ipython",
    "version": 3
   },
   "file_extension": ".py",
   "mimetype": "text/x-python",
   "name": "python",
   "nbconvert_exporter": "python",
   "pygments_lexer": "ipython3",
   "version": "3.9.7"
  }
 },
 "nbformat": 4,
 "nbformat_minor": 5
}
